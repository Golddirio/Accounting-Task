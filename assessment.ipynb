{
 "cells": [
  {
   "cell_type": "code",
   "execution_count": 15,
   "id": "ed9eaac3-3935-4b55-84ac-76d152ec1fd5",
   "metadata": {},
   "outputs": [
    {
     "name": "stdout",
     "output_type": "stream",
     "text": [
      "Requirement already satisfied: pandas in c:\\anaconda\\lib\\site-packages (2.2.2)\n",
      "Requirement already satisfied: openpyxl in c:\\anaconda\\lib\\site-packages (3.1.2)\n",
      "Requirement already satisfied: numpy>=1.26.0 in c:\\anaconda\\lib\\site-packages (from pandas) (1.26.4)\n",
      "Requirement already satisfied: python-dateutil>=2.8.2 in c:\\anaconda\\lib\\site-packages (from pandas) (2.9.0.post0)\n",
      "Requirement already satisfied: pytz>=2020.1 in c:\\anaconda\\lib\\site-packages (from pandas) (2024.1)\n",
      "Requirement already satisfied: tzdata>=2022.7 in c:\\anaconda\\lib\\site-packages (from pandas) (2023.3)\n",
      "Requirement already satisfied: et-xmlfile in c:\\anaconda\\lib\\site-packages (from openpyxl) (1.1.0)\n",
      "Requirement already satisfied: six>=1.5 in c:\\anaconda\\lib\\site-packages (from python-dateutil>=2.8.2->pandas) (1.16.0)\n",
      "Note: you may need to restart the kernel to use updated packages.\n"
     ]
    }
   ],
   "source": [
    "pip install pandas openpyxl"
   ]
  },
  {
   "cell_type": "code",
   "execution_count": 17,
   "id": "c6fc7522-bcba-413a-b0dc-b03d41cd4cf1",
   "metadata": {},
   "outputs": [
    {
     "name": "stdout",
     "output_type": "stream",
     "text": [
      "         Date                             Description  Reference Account  \\\n",
      "0  31/05/2024  Prepayment amortisation for Webhosting    46248.0  EXP001   \n",
      "1  31/05/2024  Prepayment amortisation for Webhosting    46248.0  PRE001   \n",
      "2  31/05/2024   Prepayment amortisation for Insurance    89017.0  EXP001   \n",
      "3  31/05/2024   Prepayment amortisation for Insurance    89017.0  PRE001   \n",
      "\n",
      "       Amount  \n",
      "0  833.333333  \n",
      "1 -833.333333  \n",
      "2  100.000000  \n",
      "3 -100.000000  \n"
     ]
    }
   ],
   "source": [
    "import pandas as pd\n",
    "from datetime import datetime\n",
    "import argparse\n",
    "file_path = 'Prepayment assignment.xlsx'\n",
    "df = pd.read_excel(file_path, sheet_name='Schedule', skiprows=2)\n",
    "\n",
    "#rename the columns for easier access\n",
    "df.columns = [\n",
    "    'Items', 'Invoice number', 'Invoice amount', \n",
    "    'Jan-24', 'Feb-24', 'Mar-24', 'Apr-24', 'May-24', 'Jun-24', \n",
    "    'Jul-24', 'Aug-24', 'Sep-24', 'Oct-24', 'Nov-24', 'Dec-24', 'Balance'\n",
    "]\n",
    "def generate_entries(df, month, item_name):\n",
    "    entries = []\n",
    "    month_col = month.strftime('%b-%y')\n",
    "    item_row = df[df['Items'] == item_name]\n",
    "    if not item_row.empty:\n",
    "        row = item_row.iloc[0]\n",
    "        amount = row[month_col]\n",
    "\n",
    "        if amount != 0:\n",
    "            date = month.strftime('%d/%m/%Y')\n",
    "            description = f\"Prepayment amortisation for {item_name}\"\n",
    "            reference = row['Invoice number']\n",
    "            expense_account = \"EXP001\"\n",
    "            prepayment_account = \"PRE001\"\n",
    "\n",
    "            # Expense entry\n",
    "            entries.append({\n",
    "                'Date': date,\n",
    "                'Description': description,\n",
    "                'Reference': reference,\n",
    "                'Account': expense_account,\n",
    "                'Amount': abs(amount)\n",
    "            })\n",
    "\n",
    "            # Prepayment entry\n",
    "            entries.append({\n",
    "                'Date': date,\n",
    "                'Description': description,\n",
    "                'Reference': reference,\n",
    "                'Account': prepayment_account,\n",
    "                'Amount': -abs(amount)\n",
    "            })\n",
    "    else:\n",
    "        print(f\"No data found for item: {item_name}\")\n",
    "    return entries\n",
    "#This part is for command line users to input the items and the months they want to query. \n",
    "#Then to get items and months would be args.month and args.items. But the logic is the same. \n",
    "#parser = argparse.ArgumentParser(description=\"Generate accounting entries for specific prepaid items.\")\n",
    "#parser.add_argument('--items', type=str, nargs='+', required=True, help=\"Names of the items (e.g., Webhosting Insurance)\")\n",
    "#parser.add_argument('--month', type=str, required=True, help=\"Month in 'YYYY-MM-DD' format (e.g., 2024-05-31)\")\n",
    "#args = parser.parse_args()\n",
    "\n",
    "items = [\"Webhosting\", \"Insurance\"]  \n",
    "month = \"2024-05-31\"\n",
    "# Parse the month argument into a datetime object\n",
    "month = datetime.strptime(month, '%Y-%m-%d')\n",
    "# Generate accounting entries for all specified items\n",
    "all_entries = []\n",
    "for item in items:\n",
    "    entries = generate_entries(df, month, item)\n",
    "    all_entries.extend(entries)\n",
    "\n",
    "entries_df = pd.DataFrame(all_entries)\n",
    "print(entries_df)"
   ]
  },
  {
   "cell_type": "code",
   "execution_count": 1,
   "id": "43d383e8-6cde-4d7c-bb70-104941c8787e",
   "metadata": {},
   "outputs": [
    {
     "name": "stderr",
     "output_type": "stream",
     "text": [
      "[NbConvertApp] Converting notebook assessment.ipynb to script\n",
      "[NbConvertApp] Writing 2678 bytes to assessment.py\n"
     ]
    }
   ],
   "source": [
    "!jupyter nbconvert --to script assessment.ipynb"
   ]
  },
  {
   "cell_type": "code",
   "execution_count": null,
   "id": "52ca9f13-dc90-4ace-85b6-d64b7ab62df0",
   "metadata": {},
   "outputs": [],
   "source": []
  }
 ],
 "metadata": {
  "kernelspec": {
   "display_name": "Python 3 (ipykernel)",
   "language": "python",
   "name": "python3"
  },
  "language_info": {
   "codemirror_mode": {
    "name": "ipython",
    "version": 3
   },
   "file_extension": ".py",
   "mimetype": "text/x-python",
   "name": "python",
   "nbconvert_exporter": "python",
   "pygments_lexer": "ipython3",
   "version": "3.12.4"
  }
 },
 "nbformat": 4,
 "nbformat_minor": 5
}
